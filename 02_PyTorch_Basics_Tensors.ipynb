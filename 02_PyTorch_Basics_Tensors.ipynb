{
  "nbformat": 4,
  "nbformat_minor": 0,
  "metadata": {
    "colab": {
      "provenance": [],
      "gpuType": "T4"
    },
    "kernelspec": {
      "name": "python3",
      "display_name": "Python 3"
    },
    "language_info": {
      "name": "python"
    },
    "accelerator": "GPU"
  },
  "cells": [
    {
      "cell_type": "markdown",
      "source": [
        "# Basics of PyTorch\n",
        "\n",
        "\n",
        "It is an open source deep learning library. Torch was a very powerful scientific computing library but was implemented in Lua programming language.\n",
        "\n",
        "Meta AI engineer introduced PyTorch by implement torch in python.\n",
        "\n",
        "Features :  \n",
        "\n",
        "1. High performance tensor-based operations, especially on GPU.\n",
        "2. It is compatible with python and other libraries like pandas, numpy etc.\n",
        "3. Dynamic computation graph : we can have computation graph at runtime. It helps in faster debugging and experimentation becomes easier.\n",
        "\n",
        "Computation graph : a directed acyclic graph which represent the order in which the computation are happening.\n",
        "\n",
        "It is very popular in research environments but it is still behind keras tensorflow in production environments.\n",
        "\n",
        "1. Torchscript for model searization and optimization. Once searlized a model can be used in environment like andriod which does not have python or pytorch\n",
        "\n",
        "2. Improved performance with Caffe2 integration . Caffe2 was also a library for scalable (high model and data). So they merged them.\n",
        "\n",
        "3. Supprot for distributed training\n",
        "\n",
        "4. ONNX support. It is an open source format for neural networks. This allows interoperatablity between libraries.\n",
        "\n",
        "5. Quanitzation for model compression and efficiency. To reduce the size of the model, by using lower precision.\n",
        "\n",
        "6. torchvision , torchtext, torchaudio. They provide domain specific datasets, fucntions, pretrained model."
      ],
      "metadata": {
        "id": "sSj1A1396n65"
      }
    },
    {
      "cell_type": "code",
      "source": [
        "# Tensors are multidimensional arrays : they are storage and computation efficient. Also they can represent any real world info used in deep learning (images, videos, audio, text using word embedding), also tensor are GPU efficient.\n",
        "import torch\n",
        "# dim 0\n",
        "zero_dim_scalar = torch.tensor(5)\n",
        "print(zero_dim_scalar)\n",
        "# dim 1\n",
        "one_dim_vector = torch.tensor([1,2,3])\n",
        "print(one_dim_vector) # usage : word embedding for a word\n",
        "# dim 2\n",
        "two_dim_matrix = torch.tensor([[1,2,3],[4,5,6]])\n",
        "print(two_dim_matrix) # usage : image representation (grayscale)"
      ],
      "metadata": {
        "id": "b8AZw57s-TMB",
        "colab": {
          "base_uri": "https://localhost:8080/"
        },
        "outputId": "b2e447a5-b570-44ff-f696-8a3883a6ae2f"
      },
      "execution_count": 6,
      "outputs": [
        {
          "output_type": "stream",
          "name": "stdout",
          "text": [
            "tensor(5)\n",
            "tensor([1, 2, 3])\n",
            "tensor([[1, 2, 3],\n",
            "        [4, 5, 6]])\n"
          ]
        }
      ]
    },
    {
      "cell_type": "code",
      "source": [
        "# some specs of GOOGLE COLAB\n",
        "print(torch.__version__)\n",
        "\n",
        "# CUDA : Compute Unified Device Architecture\n",
        "if torch.cuda.is_available():\n",
        "  print(\"GPU is available\")\n",
        "  print(torch.cuda.get_device_name(0))\n",
        "else:\n",
        "  print(\"GPU is not available\")"
      ],
      "metadata": {
        "colab": {
          "base_uri": "https://localhost:8080/"
        },
        "id": "cZkqMzqwJz_Q",
        "outputId": "c7d87f15-e2f0-414a-fa8c-9117b8441103"
      },
      "execution_count": 7,
      "outputs": [
        {
          "output_type": "stream",
          "name": "stdout",
          "text": [
            "2.5.1+cu121\n",
            "GPU is not available\n"
          ]
        }
      ]
    },
    {
      "cell_type": "code",
      "source": [
        "print(torch.cuda.get_device_name(0)) # always use this statement when you are sure that there is some device available or when inside some if else."
      ],
      "metadata": {
        "colab": {
          "base_uri": "https://localhost:8080/",
          "height": 308
        },
        "id": "s30J4nOALgiq",
        "outputId": "a9a6ea4e-eca5-4a7c-c117-f12a1a022f0d"
      },
      "execution_count": 8,
      "outputs": [
        {
          "output_type": "error",
          "ename": "RuntimeError",
          "evalue": "Found no NVIDIA driver on your system. Please check that you have an NVIDIA GPU and installed a driver from http://www.nvidia.com/Download/index.aspx",
          "traceback": [
            "\u001b[0;31m---------------------------------------------------------------------------\u001b[0m",
            "\u001b[0;31mRuntimeError\u001b[0m                              Traceback (most recent call last)",
            "\u001b[0;32m<ipython-input-8-b19dafa9f37d>\u001b[0m in \u001b[0;36m<cell line: 1>\u001b[0;34m()\u001b[0m\n\u001b[0;32m----> 1\u001b[0;31m \u001b[0mprint\u001b[0m\u001b[0;34m(\u001b[0m\u001b[0mtorch\u001b[0m\u001b[0;34m.\u001b[0m\u001b[0mcuda\u001b[0m\u001b[0;34m.\u001b[0m\u001b[0mget_device_name\u001b[0m\u001b[0;34m(\u001b[0m\u001b[0;36m0\u001b[0m\u001b[0;34m)\u001b[0m\u001b[0;34m)\u001b[0m \u001b[0;31m# always use this statement when you are sure that there is some device available or when inside some if else.\u001b[0m\u001b[0;34m\u001b[0m\u001b[0;34m\u001b[0m\u001b[0m\n\u001b[0m",
            "\u001b[0;32m/usr/local/lib/python3.10/dist-packages/torch/cuda/__init__.py\u001b[0m in \u001b[0;36mget_device_name\u001b[0;34m(device)\u001b[0m\n\u001b[1;32m    491\u001b[0m         \u001b[0mstr\u001b[0m\u001b[0;34m:\u001b[0m \u001b[0mthe\u001b[0m \u001b[0mname\u001b[0m \u001b[0mof\u001b[0m \u001b[0mthe\u001b[0m \u001b[0mdevice\u001b[0m\u001b[0;34m\u001b[0m\u001b[0;34m\u001b[0m\u001b[0m\n\u001b[1;32m    492\u001b[0m     \"\"\"\n\u001b[0;32m--> 493\u001b[0;31m     \u001b[0;32mreturn\u001b[0m \u001b[0mget_device_properties\u001b[0m\u001b[0;34m(\u001b[0m\u001b[0mdevice\u001b[0m\u001b[0;34m)\u001b[0m\u001b[0;34m.\u001b[0m\u001b[0mname\u001b[0m\u001b[0;34m\u001b[0m\u001b[0;34m\u001b[0m\u001b[0m\n\u001b[0m\u001b[1;32m    494\u001b[0m \u001b[0;34m\u001b[0m\u001b[0m\n\u001b[1;32m    495\u001b[0m \u001b[0;34m\u001b[0m\u001b[0m\n",
            "\u001b[0;32m/usr/local/lib/python3.10/dist-packages/torch/cuda/__init__.py\u001b[0m in \u001b[0;36mget_device_properties\u001b[0;34m(device)\u001b[0m\n\u001b[1;32m    521\u001b[0m         \u001b[0m_CudaDeviceProperties\u001b[0m\u001b[0;34m:\u001b[0m \u001b[0mthe\u001b[0m \u001b[0mproperties\u001b[0m \u001b[0mof\u001b[0m \u001b[0mthe\u001b[0m \u001b[0mdevice\u001b[0m\u001b[0;34m\u001b[0m\u001b[0;34m\u001b[0m\u001b[0m\n\u001b[1;32m    522\u001b[0m     \"\"\"\n\u001b[0;32m--> 523\u001b[0;31m     \u001b[0m_lazy_init\u001b[0m\u001b[0;34m(\u001b[0m\u001b[0;34m)\u001b[0m  \u001b[0;31m# will define _get_device_properties\u001b[0m\u001b[0;34m\u001b[0m\u001b[0;34m\u001b[0m\u001b[0m\n\u001b[0m\u001b[1;32m    524\u001b[0m     \u001b[0mdevice\u001b[0m \u001b[0;34m=\u001b[0m \u001b[0m_get_device_index\u001b[0m\u001b[0;34m(\u001b[0m\u001b[0mdevice\u001b[0m\u001b[0;34m,\u001b[0m \u001b[0moptional\u001b[0m\u001b[0;34m=\u001b[0m\u001b[0;32mTrue\u001b[0m\u001b[0;34m)\u001b[0m\u001b[0;34m\u001b[0m\u001b[0;34m\u001b[0m\u001b[0m\n\u001b[1;32m    525\u001b[0m     \u001b[0;32mif\u001b[0m \u001b[0mdevice\u001b[0m \u001b[0;34m<\u001b[0m \u001b[0;36m0\u001b[0m \u001b[0;32mor\u001b[0m \u001b[0mdevice\u001b[0m \u001b[0;34m>=\u001b[0m \u001b[0mdevice_count\u001b[0m\u001b[0;34m(\u001b[0m\u001b[0;34m)\u001b[0m\u001b[0;34m:\u001b[0m\u001b[0;34m\u001b[0m\u001b[0;34m\u001b[0m\u001b[0m\n",
            "\u001b[0;32m/usr/local/lib/python3.10/dist-packages/torch/cuda/__init__.py\u001b[0m in \u001b[0;36m_lazy_init\u001b[0;34m()\u001b[0m\n\u001b[1;32m    317\u001b[0m         \u001b[0;32mif\u001b[0m \u001b[0;34m\"CUDA_MODULE_LOADING\"\u001b[0m \u001b[0;32mnot\u001b[0m \u001b[0;32min\u001b[0m \u001b[0mos\u001b[0m\u001b[0;34m.\u001b[0m\u001b[0menviron\u001b[0m\u001b[0;34m:\u001b[0m\u001b[0;34m\u001b[0m\u001b[0;34m\u001b[0m\u001b[0m\n\u001b[1;32m    318\u001b[0m             \u001b[0mos\u001b[0m\u001b[0;34m.\u001b[0m\u001b[0menviron\u001b[0m\u001b[0;34m[\u001b[0m\u001b[0;34m\"CUDA_MODULE_LOADING\"\u001b[0m\u001b[0;34m]\u001b[0m \u001b[0;34m=\u001b[0m \u001b[0;34m\"LAZY\"\u001b[0m\u001b[0;34m\u001b[0m\u001b[0;34m\u001b[0m\u001b[0m\n\u001b[0;32m--> 319\u001b[0;31m         \u001b[0mtorch\u001b[0m\u001b[0;34m.\u001b[0m\u001b[0m_C\u001b[0m\u001b[0;34m.\u001b[0m\u001b[0m_cuda_init\u001b[0m\u001b[0;34m(\u001b[0m\u001b[0;34m)\u001b[0m\u001b[0;34m\u001b[0m\u001b[0;34m\u001b[0m\u001b[0m\n\u001b[0m\u001b[1;32m    320\u001b[0m         \u001b[0;31m# Some of the queued calls may reentrantly call _lazy_init();\u001b[0m\u001b[0;34m\u001b[0m\u001b[0;34m\u001b[0m\u001b[0m\n\u001b[1;32m    321\u001b[0m         \u001b[0;31m# we need to just return without initializing in that case.\u001b[0m\u001b[0;34m\u001b[0m\u001b[0;34m\u001b[0m\u001b[0m\n",
            "\u001b[0;31mRuntimeError\u001b[0m: Found no NVIDIA driver on your system. Please check that you have an NVIDIA GPU and installed a driver from http://www.nvidia.com/Download/index.aspx"
          ]
        }
      ]
    },
    {
      "cell_type": "markdown",
      "source": [
        "# Creating Tensors"
      ],
      "metadata": {
        "id": "Ec3n57WVMCte"
      }
    },
    {
      "cell_type": "code",
      "source": [
        "a = torch.empty(2,3)\n",
        "print(a) # doesn't initializes\n",
        "b = torch.zeros(2,3)\n",
        "print(b) # initialize everything to 0\n",
        "c = torch.ones(2,3,4)\n",
        "print(c) # initialize everything to 1"
      ],
      "metadata": {
        "colab": {
          "base_uri": "https://localhost:8080/"
        },
        "id": "qs0a_2r9LjaP",
        "outputId": "49efcefe-0b6b-4a86-d354-1177b4db3fed"
      },
      "execution_count": 10,
      "outputs": [
        {
          "output_type": "stream",
          "name": "stdout",
          "text": [
            "tensor([[4.8408e+30, 1.1693e-19, 1.3563e-19],\n",
            "        [1.5637e-01, 1.2696e+31, 1.8062e+28]])\n",
            "tensor([[0., 0., 0.],\n",
            "        [0., 0., 0.]])\n",
            "tensor([[[1., 1., 1., 1.],\n",
            "         [1., 1., 1., 1.],\n",
            "         [1., 1., 1., 1.]],\n",
            "\n",
            "        [[1., 1., 1., 1.],\n",
            "         [1., 1., 1., 1.],\n",
            "         [1., 1., 1., 1.]]])\n"
          ]
        }
      ]
    },
    {
      "cell_type": "code",
      "source": [
        "print(type(a))\n",
        "print(a.dtype)"
      ],
      "metadata": {
        "colab": {
          "base_uri": "https://localhost:8080/"
        },
        "id": "yuoRH9JKOACI",
        "outputId": "c1c59d09-ab9b-4c7a-dcb9-c926b17688d8"
      },
      "execution_count": 11,
      "outputs": [
        {
          "output_type": "stream",
          "name": "stdout",
          "text": [
            "<class 'torch.Tensor'>\n",
            "torch.float32\n"
          ]
        }
      ]
    },
    {
      "cell_type": "code",
      "source": [
        "d = torch.rand(2,3)\n",
        "print(d) # can also specify seed to maintain reproducibility"
      ],
      "metadata": {
        "colab": {
          "base_uri": "https://localhost:8080/"
        },
        "id": "GhsiB3GjOgaE",
        "outputId": "2f4e095b-03d4-404f-be62-a8d9faccc06d"
      },
      "execution_count": 16,
      "outputs": [
        {
          "output_type": "stream",
          "name": "stdout",
          "text": [
            "tensor([[0.6022, 0.5339, 0.2912],\n",
            "        [0.3172, 0.2877, 0.9346]])\n"
          ]
        }
      ]
    },
    {
      "cell_type": "code",
      "source": [
        "e = torch.randint(low = 0, high = 100 , size =  (10, 3) , dtype = torch.float64) # low , high , number of elements\n",
        "print(e)"
      ],
      "metadata": {
        "colab": {
          "base_uri": "https://localhost:8080/"
        },
        "id": "FB5IXda_OnbU",
        "outputId": "10760436-f1bf-435e-a3a6-f8c995323a34"
      },
      "execution_count": 18,
      "outputs": [
        {
          "output_type": "stream",
          "name": "stdout",
          "text": [
            "tensor([[ 0., 31.,  5.],\n",
            "        [20., 42., 61.],\n",
            "        [16., 57., 23.],\n",
            "        [69., 56., 51.],\n",
            "        [20., 58., 45.],\n",
            "        [10., 65.,  9.],\n",
            "        [ 1., 44., 97.],\n",
            "        [35., 88., 18.],\n",
            "        [83., 60., 38.],\n",
            "        [22., 17., 37.]], dtype=torch.float64)\n"
          ]
        }
      ]
    },
    {
      "cell_type": "code",
      "source": [
        "f = torch.tensor([[1,2,3], [4,5,6]])\n",
        "print(f)"
      ],
      "metadata": {
        "colab": {
          "base_uri": "https://localhost:8080/"
        },
        "id": "0Y5W6ONUOtGV",
        "outputId": "52b18bf8-8f48-4aff-bb78-77e65d92c86b"
      },
      "execution_count": 19,
      "outputs": [
        {
          "output_type": "stream",
          "name": "stdout",
          "text": [
            "tensor([[1, 2, 3],\n",
            "        [4, 5, 6]])\n"
          ]
        }
      ]
    },
    {
      "cell_type": "code",
      "source": [
        "g = torch.linspace(start = 0.1, end = 1, steps = 10)\n",
        "print(g)"
      ],
      "metadata": {
        "colab": {
          "base_uri": "https://localhost:8080/"
        },
        "id": "l1bqRxf6Pe3x",
        "outputId": "747d7032-c0b8-4169-9f4b-4df2a6c1b166"
      },
      "execution_count": 22,
      "outputs": [
        {
          "output_type": "stream",
          "name": "stdout",
          "text": [
            "tensor([0.1000, 0.2000, 0.3000, 0.4000, 0.5000, 0.6000, 0.7000, 0.8000, 0.9000,\n",
            "        1.0000])\n"
          ]
        }
      ]
    },
    {
      "cell_type": "code",
      "source": [
        "h = torch.eye(5) # identity matrix\n",
        "print(h)"
      ],
      "metadata": {
        "colab": {
          "base_uri": "https://localhost:8080/"
        },
        "id": "wf5ae-OBPkEw",
        "outputId": "dca392f9-b587-42fd-87ab-d7a7f3ae3616"
      },
      "execution_count": 23,
      "outputs": [
        {
          "output_type": "stream",
          "name": "stdout",
          "text": [
            "tensor([[1., 0., 0., 0., 0.],\n",
            "        [0., 1., 0., 0., 0.],\n",
            "        [0., 0., 1., 0., 0.],\n",
            "        [0., 0., 0., 1., 0.],\n",
            "        [0., 0., 0., 0., 1.]])\n"
          ]
        }
      ]
    },
    {
      "cell_type": "code",
      "source": [
        "i = torch.full((2,3), 5)\n",
        "print(i) # all values 5"
      ],
      "metadata": {
        "colab": {
          "base_uri": "https://localhost:8080/"
        },
        "id": "2jBSJbmvPyag",
        "outputId": "3a4f4365-c49a-4293-93e9-de5db20049d8"
      },
      "execution_count": 32,
      "outputs": [
        {
          "output_type": "stream",
          "name": "stdout",
          "text": [
            "tensor([[5, 5, 5],\n",
            "        [5, 5, 5]])\n"
          ]
        }
      ]
    },
    {
      "cell_type": "code",
      "source": [
        "i.shape"
      ],
      "metadata": {
        "colab": {
          "base_uri": "https://localhost:8080/"
        },
        "id": "S2Z1kW-AP4D2",
        "outputId": "811be741-290c-4f9a-bbeb-6eb043daa07b"
      },
      "execution_count": 33,
      "outputs": [
        {
          "output_type": "execute_result",
          "data": {
            "text/plain": [
              "torch.Size([2, 3])"
            ]
          },
          "metadata": {},
          "execution_count": 33
        }
      ]
    },
    {
      "cell_type": "code",
      "source": [
        "g.shape"
      ],
      "metadata": {
        "colab": {
          "base_uri": "https://localhost:8080/"
        },
        "id": "ewBzdwfnP7yj",
        "outputId": "15418642-6827-4156-8e2f-65fd08950bfc"
      },
      "execution_count": 34,
      "outputs": [
        {
          "output_type": "execute_result",
          "data": {
            "text/plain": [
              "torch.Size([10])"
            ]
          },
          "metadata": {},
          "execution_count": 34
        }
      ]
    },
    {
      "cell_type": "code",
      "source": [
        "torch.empty_like(g) # create a new tensor with the size same as  g . Like function can be used for such tasks."
      ],
      "metadata": {
        "colab": {
          "base_uri": "https://localhost:8080/"
        },
        "id": "I8MvLzAxP90l",
        "outputId": "f431047e-6cbc-4ca7-a509-b72936f20d8c"
      },
      "execution_count": 35,
      "outputs": [
        {
          "output_type": "execute_result",
          "data": {
            "text/plain": [
              "tensor([-7.4470e-32,  4.3143e-41, -4.7637e-13,  4.3142e-41, -7.3144e-32,\n",
              "         4.3143e-41,  1.0462e+06,  4.3143e-41, -4.7637e-13,  4.3142e-41])"
            ]
          },
          "metadata": {},
          "execution_count": 35
        }
      ]
    },
    {
      "cell_type": "code",
      "source": [
        "print(i.dtype)\n",
        "i = i.to(dtype = torch.float16)"
      ],
      "metadata": {
        "colab": {
          "base_uri": "https://localhost:8080/"
        },
        "id": "HXjtTERnQFbc",
        "outputId": "0c9831c3-e54d-4fe9-979f-a3d33670ed4a"
      },
      "execution_count": 36,
      "outputs": [
        {
          "output_type": "stream",
          "name": "stdout",
          "text": [
            "torch.int64\n"
          ]
        }
      ]
    },
    {
      "cell_type": "code",
      "source": [
        "print(i.dtype)"
      ],
      "metadata": {
        "colab": {
          "base_uri": "https://localhost:8080/"
        },
        "id": "Vli-lMxFQm2E",
        "outputId": "96477409-8efa-48e3-8bce-f172a7c051a4"
      },
      "execution_count": 37,
      "outputs": [
        {
          "output_type": "stream",
          "name": "stdout",
          "text": [
            "torch.float16\n"
          ]
        }
      ]
    },
    {
      "cell_type": "markdown",
      "source": [
        "# Mathematical operation on tensors"
      ],
      "metadata": {
        "id": "AsBQx-2AQ82x"
      }
    },
    {
      "cell_type": "code",
      "source": [
        "import torch\n",
        "x = torch.randint(1,10, (2,2))\n",
        "print(x)\n",
        "y = torch.randint(1,10, (2,2))\n",
        "print(y)\n",
        "scalar = 5"
      ],
      "metadata": {
        "colab": {
          "base_uri": "https://localhost:8080/"
        },
        "id": "Q0sMbxLDQtgA",
        "outputId": "f62dbcc9-64c6-47c2-bb2a-2e3828edb05a"
      },
      "execution_count": 1,
      "outputs": [
        {
          "output_type": "stream",
          "name": "stdout",
          "text": [
            "tensor([[2, 9],\n",
            "        [6, 2]])\n",
            "tensor([[3, 6],\n",
            "        [4, 7]])\n"
          ]
        }
      ]
    },
    {
      "cell_type": "code",
      "source": [
        "# Some scalar operation\n",
        "print(x + 2) # scalar operation is performed on all the values\n",
        "print(x - 2)\n",
        "print(x / 2)"
      ],
      "metadata": {
        "colab": {
          "base_uri": "https://localhost:8080/"
        },
        "id": "sGKTUtU0RT2q",
        "outputId": "5f5562ba-660a-427d-da7f-d8a2a7482a81"
      },
      "execution_count": 3,
      "outputs": [
        {
          "output_type": "stream",
          "name": "stdout",
          "text": [
            "tensor([[ 4, 11],\n",
            "        [ 8,  4]])\n",
            "tensor([[0, 7],\n",
            "        [4, 0]])\n",
            "tensor([[1.0000, 4.5000],\n",
            "        [3.0000, 1.0000]])\n"
          ]
        }
      ]
    },
    {
      "cell_type": "code",
      "source": [
        "# element wise operation between two vectors of same shape\n",
        "print(x + y) # all thing happen element wise\n",
        "print(x - y)\n",
        "print(x * y)\n",
        "print(x / y)"
      ],
      "metadata": {
        "colab": {
          "base_uri": "https://localhost:8080/"
        },
        "id": "0KKpfjtWRdAm",
        "outputId": "8ff461bb-8054-4759-ad45-4a02d5eb0830"
      },
      "execution_count": 4,
      "outputs": [
        {
          "output_type": "stream",
          "name": "stdout",
          "text": [
            "tensor([[ 5, 15],\n",
            "        [10,  9]])\n",
            "tensor([[-1,  3],\n",
            "        [ 2, -5]])\n",
            "tensor([[ 6, 54],\n",
            "        [24, 14]])\n",
            "tensor([[0.6667, 1.5000],\n",
            "        [1.5000, 0.2857]])\n"
          ]
        }
      ]
    },
    {
      "cell_type": "code",
      "source": [
        "# element wise operation on a single vector\n",
        "print(torch.abs(torch.tensor([[-1,-2] , [3,4]])))\n",
        "print(torch.neg(torch.tensor([[-1,-2] , [3,4]])))"
      ],
      "metadata": {
        "colab": {
          "base_uri": "https://localhost:8080/"
        },
        "id": "23sBNr0FR5cS",
        "outputId": "c7c2799e-4a3f-4f60-ab25-f4f52334a759"
      },
      "execution_count": 5,
      "outputs": [
        {
          "output_type": "stream",
          "name": "stdout",
          "text": [
            "tensor([[1, 2],\n",
            "        [3, 4]])\n",
            "tensor([[ 1,  2],\n",
            "        [-3, -4]])\n"
          ]
        }
      ]
    },
    {
      "cell_type": "code",
      "source": [
        "print(torch.round(torch.tensor([[-1.43,-2.34] , [3.342,4.242]])))\n",
        "print(torch.ceil(torch.tensor([[-1.43,-2.34] , [3.342,4.242]])))\n",
        "print(torch.floor(torch.tensor([[-1.43,-2.34] , [3.342,4.242]])))\n",
        "\n"
      ],
      "metadata": {
        "colab": {
          "base_uri": "https://localhost:8080/"
        },
        "id": "GP3VSrB4SOdH",
        "outputId": "29859c92-f81b-49a8-e3ac-de37cd56fe9b"
      },
      "execution_count": 8,
      "outputs": [
        {
          "output_type": "stream",
          "name": "stdout",
          "text": [
            "tensor([[-1., -2.],\n",
            "        [ 3.,  4.]])\n",
            "tensor([[-1., -2.],\n",
            "        [ 4.,  5.]])\n",
            "tensor([[-2., -3.],\n",
            "        [ 3.,  4.]])\n"
          ]
        }
      ]
    },
    {
      "cell_type": "code",
      "source": [
        "print(torch.clamp(torch.tensor([[-1.43,-2.34] , [3.342,4.242]]) , min = -2 , max = 4)) # to reduce to a range"
      ],
      "metadata": {
        "colab": {
          "base_uri": "https://localhost:8080/"
        },
        "id": "HuviySaUSWOP",
        "outputId": "2d11f2a4-9ebe-4602-da66-dc322e03b2f0"
      },
      "execution_count": 11,
      "outputs": [
        {
          "output_type": "stream",
          "name": "stdout",
          "text": [
            "tensor([[-1.4300, -2.0000],\n",
            "        [ 3.3420,  4.0000]])\n"
          ]
        }
      ]
    },
    {
      "cell_type": "code",
      "source": [
        "# Reduction operations : reducing down the entire vector in just a single number\n",
        "a = torch.randint(low = 0 , high = 10 , size = (3,3))\n",
        "print(a)"
      ],
      "metadata": {
        "colab": {
          "base_uri": "https://localhost:8080/"
        },
        "id": "V_YC2K-ySk4e",
        "outputId": "ecb1d239-88bb-4156-c0ba-34732f890213"
      },
      "execution_count": 12,
      "outputs": [
        {
          "output_type": "stream",
          "name": "stdout",
          "text": [
            "tensor([[9, 9, 9],\n",
            "        [4, 9, 8],\n",
            "        [7, 4, 0]])\n"
          ]
        }
      ]
    },
    {
      "cell_type": "code",
      "source": [
        "torch.sum(a)"
      ],
      "metadata": {
        "colab": {
          "base_uri": "https://localhost:8080/"
        },
        "id": "V62saUJtS7k9",
        "outputId": "316f9dbc-5645-413f-c527-61f46aa8b2a5"
      },
      "execution_count": 27,
      "outputs": [
        {
          "output_type": "execute_result",
          "data": {
            "text/plain": [
              "tensor(59)"
            ]
          },
          "metadata": {},
          "execution_count": 27
        }
      ]
    },
    {
      "cell_type": "code",
      "source": [
        "torch.sum(a, axis = 0) # col wise sum"
      ],
      "metadata": {
        "colab": {
          "base_uri": "https://localhost:8080/"
        },
        "id": "0ShSc4PfS8h8",
        "outputId": "15f93c0b-4dac-4d74-eba5-1f4973923919"
      },
      "execution_count": 28,
      "outputs": [
        {
          "output_type": "execute_result",
          "data": {
            "text/plain": [
              "tensor([20, 22, 17])"
            ]
          },
          "metadata": {},
          "execution_count": 28
        }
      ]
    },
    {
      "cell_type": "code",
      "source": [
        "torch.sum(a , axis = 1) # row wise sum"
      ],
      "metadata": {
        "colab": {
          "base_uri": "https://localhost:8080/"
        },
        "id": "fGG3HcohS-F3",
        "outputId": "21c3bf59-42bc-4fd9-c7bf-639d4e228b57"
      },
      "execution_count": 29,
      "outputs": [
        {
          "output_type": "execute_result",
          "data": {
            "text/plain": [
              "tensor([27, 21, 11])"
            ]
          },
          "metadata": {},
          "execution_count": 29
        }
      ]
    },
    {
      "cell_type": "code",
      "source": [
        "torch.mean(a, dtype = torch.float64)"
      ],
      "metadata": {
        "colab": {
          "base_uri": "https://localhost:8080/"
        },
        "id": "KhqHp_qBS_Mv",
        "outputId": "82c09370-537a-42ad-a12b-3d43de5d9868"
      },
      "execution_count": 30,
      "outputs": [
        {
          "output_type": "execute_result",
          "data": {
            "text/plain": [
              "tensor(6.5556, dtype=torch.float64)"
            ]
          },
          "metadata": {},
          "execution_count": 30
        }
      ]
    },
    {
      "cell_type": "code",
      "source": [
        "torch.mean(a , dtype = torch.float64, axis = 1)"
      ],
      "metadata": {
        "colab": {
          "base_uri": "https://localhost:8080/"
        },
        "id": "FsbAbpIrTIQE",
        "outputId": "59b18914-d5fe-4330-953e-06d2dbd13376"
      },
      "execution_count": 31,
      "outputs": [
        {
          "output_type": "execute_result",
          "data": {
            "text/plain": [
              "tensor([9.0000, 7.0000, 3.6667], dtype=torch.float64)"
            ]
          },
          "metadata": {},
          "execution_count": 31
        }
      ]
    },
    {
      "cell_type": "code",
      "source": [
        "torch.median(a)"
      ],
      "metadata": {
        "colab": {
          "base_uri": "https://localhost:8080/"
        },
        "id": "cyl3d_XNTOW4",
        "outputId": "cdbb656b-4d71-44ed-e8d3-c07a5d474129"
      },
      "execution_count": 32,
      "outputs": [
        {
          "output_type": "execute_result",
          "data": {
            "text/plain": [
              "tensor(8)"
            ]
          },
          "metadata": {},
          "execution_count": 32
        }
      ]
    },
    {
      "cell_type": "code",
      "source": [
        "torch.max(a)"
      ],
      "metadata": {
        "colab": {
          "base_uri": "https://localhost:8080/"
        },
        "id": "7uNMFBD8TYtr",
        "outputId": "dbed7c0a-f127-42ea-c06b-8385aaa0a94f"
      },
      "execution_count": 33,
      "outputs": [
        {
          "output_type": "execute_result",
          "data": {
            "text/plain": [
              "tensor(9)"
            ]
          },
          "metadata": {},
          "execution_count": 33
        }
      ]
    },
    {
      "cell_type": "code",
      "source": [
        "torch.max(a, dim = 1)"
      ],
      "metadata": {
        "colab": {
          "base_uri": "https://localhost:8080/"
        },
        "id": "7ETpmV2cTZSK",
        "outputId": "48ed837c-74dd-480f-b56f-b90e3db9ba72"
      },
      "execution_count": 34,
      "outputs": [
        {
          "output_type": "execute_result",
          "data": {
            "text/plain": [
              "torch.return_types.max(\n",
              "values=tensor([9, 9, 7]),\n",
              "indices=tensor([0, 1, 0]))"
            ]
          },
          "metadata": {},
          "execution_count": 34
        }
      ]
    },
    {
      "cell_type": "code",
      "source": [
        "torch.max(a, axis = 1 )"
      ],
      "metadata": {
        "colab": {
          "base_uri": "https://localhost:8080/"
        },
        "id": "UR51JUa7Tcc_",
        "outputId": "5b575134-8a15-472e-a561-36e946542345"
      },
      "execution_count": 35,
      "outputs": [
        {
          "output_type": "execute_result",
          "data": {
            "text/plain": [
              "torch.return_types.max(\n",
              "values=tensor([9, 9, 7]),\n",
              "indices=tensor([0, 1, 0]))"
            ]
          },
          "metadata": {},
          "execution_count": 35
        }
      ]
    },
    {
      "cell_type": "code",
      "source": [
        "torch.argmax(a , axis = 1)"
      ],
      "metadata": {
        "colab": {
          "base_uri": "https://localhost:8080/"
        },
        "id": "DlTiJ5jsTeQw",
        "outputId": "6e5974f8-a73a-4ed6-bd5c-f1def60c14fd"
      },
      "execution_count": 36,
      "outputs": [
        {
          "output_type": "execute_result",
          "data": {
            "text/plain": [
              "tensor([0, 1, 0])"
            ]
          },
          "metadata": {},
          "execution_count": 36
        }
      ]
    },
    {
      "cell_type": "code",
      "source": [
        "torch.prod(a)"
      ],
      "metadata": {
        "colab": {
          "base_uri": "https://localhost:8080/"
        },
        "id": "1CDOZroITgVr",
        "outputId": "64bf03ce-956e-4136-86f9-cc7bd267739b"
      },
      "execution_count": 37,
      "outputs": [
        {
          "output_type": "execute_result",
          "data": {
            "text/plain": [
              "tensor(0)"
            ]
          },
          "metadata": {},
          "execution_count": 37
        }
      ]
    },
    {
      "cell_type": "code",
      "source": [
        "torch.std(a.to(dtype = torch.float64), dim = 0)"
      ],
      "metadata": {
        "colab": {
          "base_uri": "https://localhost:8080/"
        },
        "id": "DvGsV8RsTilJ",
        "outputId": "2afc5720-87dc-41b9-d9c4-b51a169baf8d"
      },
      "execution_count": 42,
      "outputs": [
        {
          "output_type": "execute_result",
          "data": {
            "text/plain": [
              "tensor([2.5166, 2.8868, 4.9329], dtype=torch.float64)"
            ]
          },
          "metadata": {},
          "execution_count": 42
        }
      ]
    },
    {
      "cell_type": "code",
      "source": [
        "torch.var(a.to(dtype = torch.float64), dim = 0)"
      ],
      "metadata": {
        "colab": {
          "base_uri": "https://localhost:8080/"
        },
        "id": "VQiQ4V9uTlr6",
        "outputId": "e746bde8-f978-4f3c-ad26-37b48c805895"
      },
      "execution_count": 44,
      "outputs": [
        {
          "output_type": "execute_result",
          "data": {
            "text/plain": [
              "tensor([ 6.3333,  8.3333, 24.3333], dtype=torch.float64)"
            ]
          },
          "metadata": {},
          "execution_count": 44
        }
      ]
    },
    {
      "cell_type": "code",
      "source": [
        "# Some matrix operation :\n",
        "a = torch.randint(low = 0 , high = 10 , size = (3,2))\n",
        "b = torch.randint(low = 0 , high = 10 , size = (2,3))\n",
        "\n",
        "print(a)\n",
        "print(b)\n"
      ],
      "metadata": {
        "colab": {
          "base_uri": "https://localhost:8080/"
        },
        "id": "M8Q50H-rUZ7I",
        "outputId": "a33f57be-b551-49a2-9fbc-376338b8863a"
      },
      "execution_count": 45,
      "outputs": [
        {
          "output_type": "stream",
          "name": "stdout",
          "text": [
            "tensor([[3, 5],\n",
            "        [8, 6],\n",
            "        [9, 3]])\n",
            "tensor([[0, 4, 9],\n",
            "        [8, 4, 9]])\n"
          ]
        }
      ]
    },
    {
      "cell_type": "code",
      "source": [
        "sq_vec = torch.matmul(a,b)"
      ],
      "metadata": {
        "id": "oav1Y0DyVc9m"
      },
      "execution_count": 52,
      "outputs": []
    },
    {
      "cell_type": "code",
      "source": [
        "vec1 = torch.tensor([1,2,3])\n",
        "vec2 = torch.tensor([4,5,6])\n",
        "print(torch.dot(vec1, vec2))"
      ],
      "metadata": {
        "colab": {
          "base_uri": "https://localhost:8080/"
        },
        "id": "MoripNEyVex-",
        "outputId": "ff316a07-9988-48c3-99a2-ec4aef4af018"
      },
      "execution_count": 53,
      "outputs": [
        {
          "output_type": "stream",
          "name": "stdout",
          "text": [
            "tensor(32)\n"
          ]
        }
      ]
    },
    {
      "cell_type": "code",
      "source": [
        "torch.transpose(a, 0 , 1) # I want to swap 0 with 1"
      ],
      "metadata": {
        "colab": {
          "base_uri": "https://localhost:8080/"
        },
        "id": "Sn4neAYpVo9B",
        "outputId": "53df4ebd-1029-490f-a32a-6f0fa229e3db"
      },
      "execution_count": 54,
      "outputs": [
        {
          "output_type": "execute_result",
          "data": {
            "text/plain": [
              "tensor([[3, 8, 9],\n",
              "        [5, 6, 3]])"
            ]
          },
          "metadata": {},
          "execution_count": 54
        }
      ]
    },
    {
      "cell_type": "code",
      "source": [
        "torch.det(sq_vec.to(dtype = torch.float64))"
      ],
      "metadata": {
        "colab": {
          "base_uri": "https://localhost:8080/"
        },
        "id": "ckwTtbptVrri",
        "outputId": "2dc77d10-8a43-4bd7-9560-05bb1207d8df"
      },
      "execution_count": 56,
      "outputs": [
        {
          "output_type": "execute_result",
          "data": {
            "text/plain": [
              "tensor(3.8369e-12, dtype=torch.float64)"
            ]
          },
          "metadata": {},
          "execution_count": 56
        }
      ]
    },
    {
      "cell_type": "code",
      "source": [
        "torch.inverse(sq_vec.to(dtype = torch.float64))"
      ],
      "metadata": {
        "colab": {
          "base_uri": "https://localhost:8080/"
        },
        "id": "qVpPMUnmV74q",
        "outputId": "1e794425-c495-4a75-9dd3-aa2c7b3cb8c9"
      },
      "execution_count": 59,
      "outputs": [
        {
          "output_type": "execute_result",
          "data": {
            "text/plain": [
              "tensor([[-1.7663e-17,  5.0000e-02, -5.8333e-02],\n",
              "        [-5.6295e+14,  6.7554e+14, -4.1283e+14],\n",
              "        [ 2.5020e+14, -3.0024e+14,  1.8348e+14]], dtype=torch.float64)"
            ]
          },
          "metadata": {},
          "execution_count": 59
        }
      ]
    },
    {
      "cell_type": "code",
      "source": [
        "# Comparision operation\n",
        "vec1 > vec2"
      ],
      "metadata": {
        "colab": {
          "base_uri": "https://localhost:8080/"
        },
        "id": "iACqk0WZWR01",
        "outputId": "0a7a5c28-c0fa-429f-bc30-904215054ec1"
      },
      "execution_count": 60,
      "outputs": [
        {
          "output_type": "execute_result",
          "data": {
            "text/plain": [
              "tensor([False, False, False])"
            ]
          },
          "metadata": {},
          "execution_count": 60
        }
      ]
    },
    {
      "cell_type": "markdown",
      "source": [
        "# Some special mathematical functions"
      ],
      "metadata": {
        "id": "DWXU2sN9Wj25"
      }
    },
    {
      "cell_type": "code",
      "source": [
        "import torch\n",
        "torch.manual_seed(42)\n",
        "a = torch.randint(1, 10 , (5, ))\n",
        "print(a)"
      ],
      "metadata": {
        "colab": {
          "base_uri": "https://localhost:8080/"
        },
        "id": "aP3t5qeZWgBp",
        "outputId": "6b2c1d28-f0d1-4274-c3e2-4f755508ea6b"
      },
      "execution_count": 6,
      "outputs": [
        {
          "output_type": "stream",
          "name": "stdout",
          "text": [
            "tensor([7, 6, 8, 5, 1])\n"
          ]
        }
      ]
    },
    {
      "cell_type": "code",
      "source": [
        "torch.log(a)"
      ],
      "metadata": {
        "colab": {
          "base_uri": "https://localhost:8080/"
        },
        "id": "e-85Luf8Wuf3",
        "outputId": "5e29bfaa-88e1-4d12-b10c-33bfa72cfecb"
      },
      "execution_count": 7,
      "outputs": [
        {
          "output_type": "execute_result",
          "data": {
            "text/plain": [
              "tensor([1.9459, 1.7918, 2.0794, 1.6094, 0.0000])"
            ]
          },
          "metadata": {},
          "execution_count": 7
        }
      ]
    },
    {
      "cell_type": "code",
      "source": [
        "torch.exp(a)"
      ],
      "metadata": {
        "colab": {
          "base_uri": "https://localhost:8080/"
        },
        "id": "onc-iN95WyXr",
        "outputId": "de30521c-4b88-405a-c6e5-7f9e6043db3e"
      },
      "execution_count": 8,
      "outputs": [
        {
          "output_type": "execute_result",
          "data": {
            "text/plain": [
              "tensor([1.0966e+03, 4.0343e+02, 2.9810e+03, 1.4841e+02, 2.7183e+00])"
            ]
          },
          "metadata": {},
          "execution_count": 8
        }
      ]
    },
    {
      "cell_type": "code",
      "source": [
        "torch.sqrt(a)"
      ],
      "metadata": {
        "colab": {
          "base_uri": "https://localhost:8080/"
        },
        "id": "cyAMat-NWzQJ",
        "outputId": "e0f36c9c-d707-4a6d-de06-f0a82d8e2d94"
      },
      "execution_count": 9,
      "outputs": [
        {
          "output_type": "execute_result",
          "data": {
            "text/plain": [
              "tensor([2.6458, 2.4495, 2.8284, 2.2361, 1.0000])"
            ]
          },
          "metadata": {},
          "execution_count": 9
        }
      ]
    },
    {
      "cell_type": "code",
      "source": [
        "torch.sin(a)"
      ],
      "metadata": {
        "colab": {
          "base_uri": "https://localhost:8080/"
        },
        "id": "JEY_LggAXD5M",
        "outputId": "d1a05f47-b6b5-4e9a-ab8e-aebb9266b98e"
      },
      "execution_count": 10,
      "outputs": [
        {
          "output_type": "execute_result",
          "data": {
            "text/plain": [
              "tensor([ 0.6570, -0.2794,  0.9894, -0.9589,  0.8415])"
            ]
          },
          "metadata": {},
          "execution_count": 10
        }
      ]
    },
    {
      "cell_type": "code",
      "source": [
        "torch.sigmoid(a)"
      ],
      "metadata": {
        "colab": {
          "base_uri": "https://localhost:8080/"
        },
        "id": "msz2uYk5XE5r",
        "outputId": "ee87d98f-2dcf-4333-9853-7c3e0fbfd467"
      },
      "execution_count": 11,
      "outputs": [
        {
          "output_type": "execute_result",
          "data": {
            "text/plain": [
              "tensor([0.9991, 0.9975, 0.9997, 0.9933, 0.7311])"
            ]
          },
          "metadata": {},
          "execution_count": 11
        }
      ]
    },
    {
      "cell_type": "code",
      "source": [
        "1 / (1 + torch.exp(-a))"
      ],
      "metadata": {
        "colab": {
          "base_uri": "https://localhost:8080/"
        },
        "id": "mO-NqDOUXGWb",
        "outputId": "66f82c27-eba8-4785-d038-623569224e9d"
      },
      "execution_count": 12,
      "outputs": [
        {
          "output_type": "execute_result",
          "data": {
            "text/plain": [
              "tensor([0.9991, 0.9975, 0.9997, 0.9933, 0.7311])"
            ]
          },
          "metadata": {},
          "execution_count": 12
        }
      ]
    },
    {
      "cell_type": "code",
      "source": [
        "torch.softmax(a.to(dtype=torch.float64), dim = 0)"
      ],
      "metadata": {
        "colab": {
          "base_uri": "https://localhost:8080/"
        },
        "id": "O5NcwaRXXMA7",
        "outputId": "7c909c2d-7711-4c31-8872-d92631a0262b"
      },
      "execution_count": 14,
      "outputs": [
        {
          "output_type": "execute_result",
          "data": {
            "text/plain": [
              "tensor([2.3674e-01, 8.7093e-02, 6.4354e-01, 3.2040e-02, 5.8683e-04],\n",
              "       dtype=torch.float64)"
            ]
          },
          "metadata": {},
          "execution_count": 14
        }
      ]
    },
    {
      "cell_type": "code",
      "source": [
        "torch.exp(a) / torch.sum(torch.exp(a))"
      ],
      "metadata": {
        "colab": {
          "base_uri": "https://localhost:8080/"
        },
        "id": "eeNX9jlaXUuH",
        "outputId": "fa4504f6-edb1-43a3-8aad-43be25afae3c"
      },
      "execution_count": 15,
      "outputs": [
        {
          "output_type": "execute_result",
          "data": {
            "text/plain": [
              "tensor([2.3674e-01, 8.7093e-02, 6.4354e-01, 3.2040e-02, 5.8683e-04])"
            ]
          },
          "metadata": {},
          "execution_count": 15
        }
      ]
    },
    {
      "cell_type": "code",
      "source": [
        "torch.relu(a)"
      ],
      "metadata": {
        "colab": {
          "base_uri": "https://localhost:8080/"
        },
        "id": "zON8rsBOXdUz",
        "outputId": "df00ec5e-7455-4620-c67f-2eb84a1bb7b4"
      },
      "execution_count": 16,
      "outputs": [
        {
          "output_type": "execute_result",
          "data": {
            "text/plain": [
              "tensor([7, 6, 8, 5, 1])"
            ]
          },
          "metadata": {},
          "execution_count": 16
        }
      ]
    },
    {
      "cell_type": "markdown",
      "source": [
        "# Some other facts"
      ],
      "metadata": {
        "id": "DnidrV3EXsmA"
      }
    },
    {
      "cell_type": "code",
      "source": [
        "import torch\n",
        "m = torch.rand(2,3)\n",
        "n = torch.rand(2,3)\n",
        "print(m)\n",
        "print(n)\n",
        "print(m+ n)\n",
        "print(m) # no inplace changes"
      ],
      "metadata": {
        "colab": {
          "base_uri": "https://localhost:8080/"
        },
        "id": "ioQgQ-wCXmpJ",
        "outputId": "8c360418-e782-458d-ec03-270a2c68436f"
      },
      "execution_count": 1,
      "outputs": [
        {
          "output_type": "stream",
          "name": "stdout",
          "text": [
            "tensor([[0.0707, 0.0927, 0.9830],\n",
            "        [0.4714, 0.7548, 0.4601]])\n",
            "tensor([[0.9152, 0.8146, 0.1306],\n",
            "        [0.2263, 0.7066, 0.7340]])\n",
            "tensor([[0.9859, 0.9073, 1.1136],\n",
            "        [0.6977, 1.4614, 1.1942]])\n",
            "tensor([[0.0707, 0.0927, 0.9830],\n",
            "        [0.4714, 0.7548, 0.4601]])\n"
          ]
        }
      ]
    },
    {
      "cell_type": "code",
      "source": [
        "print(m.add_(n)) # inplace changes\n",
        "print(m)"
      ],
      "metadata": {
        "colab": {
          "base_uri": "https://localhost:8080/"
        },
        "id": "s36SkRLrX-Th",
        "outputId": "9bf415e7-6266-4979-ed8a-890b404be725"
      },
      "execution_count": 2,
      "outputs": [
        {
          "output_type": "stream",
          "name": "stdout",
          "text": [
            "tensor([[0.9859, 0.9073, 1.1136],\n",
            "        [0.6977, 1.4614, 1.1942]])\n",
            "tensor([[0.9859, 0.9073, 1.1136],\n",
            "        [0.6977, 1.4614, 1.1942]])\n"
          ]
        }
      ]
    },
    {
      "cell_type": "code",
      "source": [
        "m.exp_()"
      ],
      "metadata": {
        "colab": {
          "base_uri": "https://localhost:8080/"
        },
        "id": "pUTS4d85YC_V",
        "outputId": "b78da7fd-11a3-4292-fc91-041366b69be5"
      },
      "execution_count": 4,
      "outputs": [
        {
          "output_type": "execute_result",
          "data": {
            "text/plain": [
              "tensor([[2.6803, 2.4777, 3.0452],\n",
              "        [2.0091, 4.3121, 3.3009]])"
            ]
          },
          "metadata": {},
          "execution_count": 4
        }
      ]
    },
    {
      "cell_type": "code",
      "source": [
        "m"
      ],
      "metadata": {
        "colab": {
          "base_uri": "https://localhost:8080/"
        },
        "id": "nCV0X6TqYX46",
        "outputId": "dc947918-5090-4b8b-c437-1b10047469d2"
      },
      "execution_count": 5,
      "outputs": [
        {
          "output_type": "execute_result",
          "data": {
            "text/plain": [
              "tensor([[2.6803, 2.4777, 3.0452],\n",
              "        [2.0091, 4.3121, 3.3009]])"
            ]
          },
          "metadata": {},
          "execution_count": 5
        }
      ]
    },
    {
      "cell_type": "code",
      "source": [
        "# copying a tensor\n",
        "a = torch.tensor([1,2,3])\n",
        "b = a"
      ],
      "metadata": {
        "id": "3DNywJNHYbKH"
      },
      "execution_count": 6,
      "outputs": []
    },
    {
      "cell_type": "code",
      "source": [
        "a[2] = 10\n",
        "print(b) # changed"
      ],
      "metadata": {
        "colab": {
          "base_uri": "https://localhost:8080/"
        },
        "id": "K0ccS7UeYl6Q",
        "outputId": "61a2c4c1-08d5-4a23-bb9f-7fc211749f36"
      },
      "execution_count": 8,
      "outputs": [
        {
          "output_type": "stream",
          "name": "stdout",
          "text": [
            "tensor([ 1,  2, 10])\n"
          ]
        }
      ]
    },
    {
      "cell_type": "code",
      "source": [
        "print(id(a) , id(b))"
      ],
      "metadata": {
        "colab": {
          "base_uri": "https://localhost:8080/"
        },
        "id": "hiq9TpSPYob_",
        "outputId": "9d04d527-dd43-4b6f-8a51-9f2cedc94340"
      },
      "execution_count": 9,
      "outputs": [
        {
          "output_type": "stream",
          "name": "stdout",
          "text": [
            "136872154099488 136872154099488\n"
          ]
        }
      ]
    },
    {
      "cell_type": "code",
      "source": [
        "b = a.clone()\n",
        "print(id(a) , id(b))"
      ],
      "metadata": {
        "colab": {
          "base_uri": "https://localhost:8080/"
        },
        "id": "OU17tfBTYsYI",
        "outputId": "306dcd62-81f3-4641-c079-5edd444f8d84"
      },
      "execution_count": 10,
      "outputs": [
        {
          "output_type": "stream",
          "name": "stdout",
          "text": [
            "136872154099488 136872165548304\n"
          ]
        }
      ]
    },
    {
      "cell_type": "markdown",
      "source": [
        "# How to use GPU"
      ],
      "metadata": {
        "id": "0LTeXtLhY4wS"
      }
    },
    {
      "cell_type": "code",
      "source": [
        "import torch\n",
        "print(torch.cuda.is_available())"
      ],
      "metadata": {
        "colab": {
          "base_uri": "https://localhost:8080/"
        },
        "id": "CUrr2uxXYwWj",
        "outputId": "45a3c9d1-74ee-4acb-c31b-d6712b3f9e04"
      },
      "execution_count": 1,
      "outputs": [
        {
          "output_type": "stream",
          "name": "stdout",
          "text": [
            "True\n"
          ]
        }
      ]
    },
    {
      "cell_type": "code",
      "source": [
        "device = torch.device(\"cuda\" if torch.cuda.is_available() else \"cpu\")\n",
        "print(device)"
      ],
      "metadata": {
        "colab": {
          "base_uri": "https://localhost:8080/"
        },
        "id": "vVahIQ5MZMTV",
        "outputId": "affc6022-fd82-465f-c0e6-5ca099508302"
      },
      "execution_count": 2,
      "outputs": [
        {
          "output_type": "stream",
          "name": "stdout",
          "text": [
            "cuda\n"
          ]
        }
      ]
    },
    {
      "cell_type": "code",
      "source": [
        "a = torch.rand(2,3,dtype = torch.float64, device = device)\n",
        "print(a)"
      ],
      "metadata": {
        "colab": {
          "base_uri": "https://localhost:8080/"
        },
        "id": "Re2t0dYjZQvq",
        "outputId": "9afe65cb-7c27-47cd-cff6-019b423de3fb"
      },
      "execution_count": 3,
      "outputs": [
        {
          "output_type": "stream",
          "name": "stdout",
          "text": [
            "tensor([[0.8596, 0.0936, 0.7492],\n",
            "        [0.0853, 0.1254, 0.2742]], device='cuda:0', dtype=torch.float64)\n"
          ]
        }
      ]
    },
    {
      "cell_type": "code",
      "source": [
        "b = torch.rand(2,3,dtype = torch.float64, device = 'cpu')\n",
        "print(b)"
      ],
      "metadata": {
        "colab": {
          "base_uri": "https://localhost:8080/"
        },
        "id": "UX4lyk7rZYLW",
        "outputId": "556f4a6e-3f33-4c6e-b772-fee43d259cba"
      },
      "execution_count": 4,
      "outputs": [
        {
          "output_type": "stream",
          "name": "stdout",
          "text": [
            "tensor([[0.4769, 0.4008, 0.1311],\n",
            "        [0.1607, 0.5064, 0.8150]], dtype=torch.float64)\n"
          ]
        }
      ]
    },
    {
      "cell_type": "code",
      "source": [
        "b.to(device = device)"
      ],
      "metadata": {
        "colab": {
          "base_uri": "https://localhost:8080/"
        },
        "id": "AvtWOBSHZeG1",
        "outputId": "96aef61d-23a7-491d-8e86-60539bb291f9"
      },
      "execution_count": 5,
      "outputs": [
        {
          "output_type": "execute_result",
          "data": {
            "text/plain": [
              "tensor([[0.4769, 0.4008, 0.1311],\n",
              "        [0.1607, 0.5064, 0.8150]], device='cuda:0', dtype=torch.float64)"
            ]
          },
          "metadata": {},
          "execution_count": 5
        }
      ]
    },
    {
      "cell_type": "code",
      "source": [
        "print(b) # have to store the new tensor"
      ],
      "metadata": {
        "colab": {
          "base_uri": "https://localhost:8080/"
        },
        "id": "RYm4fF4_ZiPS",
        "outputId": "8c7d41e6-0176-49d9-fe0b-9089f8c58489"
      },
      "execution_count": 6,
      "outputs": [
        {
          "output_type": "stream",
          "name": "stdout",
          "text": [
            "tensor([[0.4769, 0.4008, 0.1311],\n",
            "        [0.1607, 0.5064, 0.8150]], dtype=torch.float64)\n"
          ]
        }
      ]
    },
    {
      "cell_type": "markdown",
      "source": [
        "# Reshaping of tensors"
      ],
      "metadata": {
        "id": "2bwz8Y_8ZsID"
      }
    },
    {
      "cell_type": "code",
      "source": [
        "import torch"
      ],
      "metadata": {
        "id": "6KlaFj8nZjXO"
      },
      "execution_count": 1,
      "outputs": []
    },
    {
      "cell_type": "code",
      "source": [
        "a = torch.ones(4,4)\n",
        "print(a)"
      ],
      "metadata": {
        "colab": {
          "base_uri": "https://localhost:8080/"
        },
        "id": "nYZ9MeaoaEd9",
        "outputId": "ddd6dc78-f734-42fc-8a5b-a9dacb9e7082"
      },
      "execution_count": 2,
      "outputs": [
        {
          "output_type": "stream",
          "name": "stdout",
          "text": [
            "tensor([[1., 1., 1., 1.],\n",
            "        [1., 1., 1., 1.],\n",
            "        [1., 1., 1., 1.],\n",
            "        [1., 1., 1., 1.]])\n"
          ]
        }
      ]
    },
    {
      "cell_type": "code",
      "source": [
        "a.reshape(2,2,2,2)\n"
      ],
      "metadata": {
        "colab": {
          "base_uri": "https://localhost:8080/"
        },
        "id": "GkyX9xSraH3K",
        "outputId": "03ccc879-3b23-40da-9a07-a0d2e7c66022"
      },
      "execution_count": 4,
      "outputs": [
        {
          "output_type": "execute_result",
          "data": {
            "text/plain": [
              "tensor([[[[1., 1.],\n",
              "          [1., 1.]],\n",
              "\n",
              "         [[1., 1.],\n",
              "          [1., 1.]]],\n",
              "\n",
              "\n",
              "        [[[1., 1.],\n",
              "          [1., 1.]],\n",
              "\n",
              "         [[1., 1.],\n",
              "          [1., 1.]]]])"
            ]
          },
          "metadata": {},
          "execution_count": 4
        }
      ]
    },
    {
      "cell_type": "code",
      "source": [
        "a.flatten()"
      ],
      "metadata": {
        "colab": {
          "base_uri": "https://localhost:8080/"
        },
        "id": "kMJCYX8zaKkP",
        "outputId": "a9e7594a-d28b-42db-8a58-e92e770a1bf3"
      },
      "execution_count": 5,
      "outputs": [
        {
          "output_type": "execute_result",
          "data": {
            "text/plain": [
              "tensor([1., 1., 1., 1., 1., 1., 1., 1., 1., 1., 1., 1., 1., 1., 1., 1.])"
            ]
          },
          "metadata": {},
          "execution_count": 5
        }
      ]
    },
    {
      "cell_type": "code",
      "source": [
        "# permute operation to swap dimensions\n",
        "b = torch.rand(2,3,4)\n",
        "print(b)"
      ],
      "metadata": {
        "colab": {
          "base_uri": "https://localhost:8080/"
        },
        "id": "7jokc7u9aSAI",
        "outputId": "77161176-7410-4680-a6eb-f805f82d3275"
      },
      "execution_count": 6,
      "outputs": [
        {
          "output_type": "stream",
          "name": "stdout",
          "text": [
            "tensor([[[0.4798, 0.2358, 0.6270, 0.9137],\n",
            "         [0.3045, 0.3165, 0.6578, 0.2485],\n",
            "         [0.7261, 0.4065, 0.0566, 0.5746]],\n",
            "\n",
            "        [[0.6105, 0.5306, 0.0647, 0.9182],\n",
            "         [0.2844, 0.0630, 0.6918, 0.8251],\n",
            "         [0.7369, 0.3440, 0.0548, 0.0118]]])\n"
          ]
        }
      ]
    },
    {
      "cell_type": "code",
      "source": [
        "b.permute(2,1,0)"
      ],
      "metadata": {
        "colab": {
          "base_uri": "https://localhost:8080/"
        },
        "id": "kqowdGMIagPA",
        "outputId": "4fb10cf4-b3c0-405a-a14f-1653fc430fb9"
      },
      "execution_count": 7,
      "outputs": [
        {
          "output_type": "execute_result",
          "data": {
            "text/plain": [
              "tensor([[[0.4798, 0.6105],\n",
              "         [0.3045, 0.2844],\n",
              "         [0.7261, 0.7369]],\n",
              "\n",
              "        [[0.2358, 0.5306],\n",
              "         [0.3165, 0.0630],\n",
              "         [0.4065, 0.3440]],\n",
              "\n",
              "        [[0.6270, 0.0647],\n",
              "         [0.6578, 0.6918],\n",
              "         [0.0566, 0.0548]],\n",
              "\n",
              "        [[0.9137, 0.9182],\n",
              "         [0.2485, 0.8251],\n",
              "         [0.5746, 0.0118]]])"
            ]
          },
          "metadata": {},
          "execution_count": 7
        }
      ]
    },
    {
      "cell_type": "code",
      "source": [
        "# unsqueeze : add a dimension : can help in creating batches of data\n",
        "c = torch.rand(224,224,3)\n",
        "c.unsqueeze(0).shape"
      ],
      "metadata": {
        "colab": {
          "base_uri": "https://localhost:8080/"
        },
        "id": "jkfqfpBWajTi",
        "outputId": "81aae87e-8e15-473d-ab38-35e435e86e15"
      },
      "execution_count": 8,
      "outputs": [
        {
          "output_type": "execute_result",
          "data": {
            "text/plain": [
              "torch.Size([1, 224, 224, 3])"
            ]
          },
          "metadata": {},
          "execution_count": 8
        }
      ]
    },
    {
      "cell_type": "code",
      "source": [
        "c.unsqueeze(1).shape"
      ],
      "metadata": {
        "colab": {
          "base_uri": "https://localhost:8080/"
        },
        "id": "RbssIJ-2ayTG",
        "outputId": "f3da3f89-93ca-4d63-af27-f609b30f5524"
      },
      "execution_count": 9,
      "outputs": [
        {
          "output_type": "execute_result",
          "data": {
            "text/plain": [
              "torch.Size([224, 1, 224, 3])"
            ]
          },
          "metadata": {},
          "execution_count": 9
        }
      ]
    },
    {
      "cell_type": "code",
      "source": [
        "d = torch.rand(1,3,4)\n",
        "print(d)"
      ],
      "metadata": {
        "colab": {
          "base_uri": "https://localhost:8080/"
        },
        "id": "xndWT649a1qx",
        "outputId": "fdf76f9e-34fe-4c71-b4dd-f5979b37c253"
      },
      "execution_count": 12,
      "outputs": [
        {
          "output_type": "stream",
          "name": "stdout",
          "text": [
            "tensor([[[0.5459, 0.3410, 0.3377, 0.8707],\n",
            "         [0.7641, 0.0858, 0.7703, 0.9384],\n",
            "         [0.9837, 0.5693, 0.9332, 0.9478]]])\n"
          ]
        }
      ]
    },
    {
      "cell_type": "code",
      "source": [
        "d.squeeze(0).shape"
      ],
      "metadata": {
        "colab": {
          "base_uri": "https://localhost:8080/"
        },
        "id": "Q1Tlkcvoa-oM",
        "outputId": "304b08c7-7c4a-4ba0-e817-888ac06bb1e4"
      },
      "execution_count": 13,
      "outputs": [
        {
          "output_type": "execute_result",
          "data": {
            "text/plain": [
              "torch.Size([3, 4])"
            ]
          },
          "metadata": {},
          "execution_count": 13
        }
      ]
    },
    {
      "cell_type": "markdown",
      "source": [
        "# Numpy and PyTorch Conversions"
      ],
      "metadata": {
        "id": "R3FLyLFDbHMf"
      }
    },
    {
      "cell_type": "code",
      "source": [
        "import torch\n",
        "import numpy as np"
      ],
      "metadata": {
        "id": "2ojZ8Bo3bAnU"
      },
      "execution_count": 17,
      "outputs": []
    },
    {
      "cell_type": "code",
      "source": [
        "a = torch.tensor([1,2,3])\n",
        "print(a)\n",
        "b = a.numpy()"
      ],
      "metadata": {
        "colab": {
          "base_uri": "https://localhost:8080/"
        },
        "id": "htiWt0H2bLzI",
        "outputId": "4d0869d6-dc47-4092-e377-2a53b630903f"
      },
      "execution_count": 18,
      "outputs": [
        {
          "output_type": "stream",
          "name": "stdout",
          "text": [
            "tensor([1, 2, 3])\n"
          ]
        }
      ]
    },
    {
      "cell_type": "code",
      "source": [
        "print(type(a), type(b))"
      ],
      "metadata": {
        "colab": {
          "base_uri": "https://localhost:8080/"
        },
        "id": "voXVlAsKbbQC",
        "outputId": "df064624-1484-4798-e246-58b30e186973"
      },
      "execution_count": 20,
      "outputs": [
        {
          "output_type": "stream",
          "name": "stdout",
          "text": [
            "<class 'torch.Tensor'> <class 'numpy.ndarray'>\n"
          ]
        }
      ]
    },
    {
      "cell_type": "code",
      "source": [
        "c = torch.from_numpy(b)"
      ],
      "metadata": {
        "id": "NgxGcTCmbgY9"
      },
      "execution_count": 21,
      "outputs": []
    },
    {
      "cell_type": "code",
      "source": [
        "print(c, type(c), type(b))"
      ],
      "metadata": {
        "colab": {
          "base_uri": "https://localhost:8080/"
        },
        "id": "HaHkcQqebxuD",
        "outputId": "83925c13-7b9d-499f-c4ff-7e2905ef1c33"
      },
      "execution_count": 22,
      "outputs": [
        {
          "output_type": "stream",
          "name": "stdout",
          "text": [
            "tensor([1, 2, 3]) <class 'torch.Tensor'> <class 'numpy.ndarray'>\n"
          ]
        }
      ]
    },
    {
      "cell_type": "code",
      "source": [],
      "metadata": {
        "id": "H0OZ2hG2b0Jw"
      },
      "execution_count": null,
      "outputs": []
    }
  ]
}