{
  "nbformat": 4,
  "nbformat_minor": 0,
  "metadata": {
    "colab": {
      "provenance": []
    },
    "kernelspec": {
      "name": "python3",
      "display_name": "Python 3"
    },
    "language_info": {
      "name": "python"
    }
  },
  "cells": [
    {
      "cell_type": "code",
      "execution_count": 1,
      "metadata": {
        "id": "k5mFol70c_eb"
      },
      "outputs": [],
      "source": [
        "import torch"
      ]
    },
    {
      "cell_type": "markdown",
      "source": [
        "# Autograd\n",
        "\n",
        "Autograd is a very important module of PyTorch that can be used for differentiation purposes. It is very helpful for any kind of backpropagation.\n",
        "\n",
        "When we put requires_gradient True, autograd tracks what all operation were done over that particular element"
      ],
      "metadata": {
        "id": "uv1mSImmdDOg"
      }
    },
    {
      "cell_type": "code",
      "source": [
        "\n"
      ],
      "metadata": {
        "id": "8oGPx8LudWVK"
      },
      "execution_count": 2,
      "outputs": []
    },
    {
      "cell_type": "code",
      "source": [
        "# then we calculate dL / db or dL/ dw"
      ],
      "metadata": {
        "id": "icvKvNUxeZl3"
      },
      "execution_count": 3,
      "outputs": []
    },
    {
      "cell_type": "code",
      "source": [
        "# y = x ** 2\n",
        "\n",
        "x = torch.tensor([3], requires_grad = True, dtype = torch.float64)\n",
        "y = x ** 2"
      ],
      "metadata": {
        "id": "6SeV0HS8e_cX"
      },
      "execution_count": 14,
      "outputs": []
    },
    {
      "cell_type": "code",
      "source": [
        "print(x)"
      ],
      "metadata": {
        "colab": {
          "base_uri": "https://localhost:8080/"
        },
        "id": "9f5a4WGLfHCN",
        "outputId": "3fada189-ac04-4c57-f43d-35f436b890ee"
      },
      "execution_count": 15,
      "outputs": [
        {
          "output_type": "stream",
          "name": "stdout",
          "text": [
            "tensor([3.], dtype=torch.float64, requires_grad=True)\n"
          ]
        }
      ]
    },
    {
      "cell_type": "code",
      "source": [
        "print(y)"
      ],
      "metadata": {
        "colab": {
          "base_uri": "https://localhost:8080/"
        },
        "id": "wLYrSqH5fMxk",
        "outputId": "51bc056e-4c95-438c-e6c9-005ac3ad2f47"
      },
      "execution_count": 16,
      "outputs": [
        {
          "output_type": "stream",
          "name": "stdout",
          "text": [
            "tensor([9.], dtype=torch.float64, grad_fn=<PowBackward0>)\n"
          ]
        }
      ]
    },
    {
      "cell_type": "code",
      "source": [
        "#y.grad # gradient only can be computed on the leafs nodes"
      ],
      "metadata": {
        "id": "FQ5d-5SgfOQB"
      },
      "execution_count": 17,
      "outputs": []
    },
    {
      "cell_type": "code",
      "source": [
        "y.backward()"
      ],
      "metadata": {
        "id": "zKp92VtxfSpN"
      },
      "execution_count": 18,
      "outputs": []
    },
    {
      "cell_type": "code",
      "source": [
        "x.grad # y can be only value"
      ],
      "metadata": {
        "colab": {
          "base_uri": "https://localhost:8080/"
        },
        "id": "r5wuauDCfnMN",
        "outputId": "9cac4199-ed4b-4339-f7da-f7d29010439e"
      },
      "execution_count": 19,
      "outputs": [
        {
          "output_type": "execute_result",
          "data": {
            "text/plain": [
              "tensor([6.], dtype=torch.float64)"
            ]
          },
          "metadata": {},
          "execution_count": 19
        }
      ]
    },
    {
      "cell_type": "code",
      "source": [
        "x = torch.tensor([3], requires_grad = True, dtype = torch.float64)\n",
        "y = x ** 2\n",
        "z = torch.sin(y)\n",
        "print(x)\n",
        "print(y)\n",
        "print(z)"
      ],
      "metadata": {
        "colab": {
          "base_uri": "https://localhost:8080/"
        },
        "id": "mMqp2dPVgi_Q",
        "outputId": "feb5c744-ba51-4e7f-d9ae-eb46c86b79b1"
      },
      "execution_count": 2,
      "outputs": [
        {
          "output_type": "stream",
          "name": "stdout",
          "text": [
            "tensor([3.], dtype=torch.float64, requires_grad=True)\n",
            "tensor([9.], dtype=torch.float64, grad_fn=<PowBackward0>)\n",
            "tensor([0.4121], dtype=torch.float64, grad_fn=<SinBackward0>)\n"
          ]
        }
      ]
    },
    {
      "cell_type": "code",
      "source": [
        "z.backward()"
      ],
      "metadata": {
        "id": "N-Cpse2ehL3Q"
      },
      "execution_count": 3,
      "outputs": []
    },
    {
      "cell_type": "code",
      "source": [
        "x.grad"
      ],
      "metadata": {
        "colab": {
          "base_uri": "https://localhost:8080/"
        },
        "id": "fEB2BrdohN03",
        "outputId": "d6f8951a-2f6a-4bf1-be56-d538680b8c8f"
      },
      "execution_count": 4,
      "outputs": [
        {
          "output_type": "execute_result",
          "data": {
            "text/plain": [
              "tensor([-5.4668], dtype=torch.float64)"
            ]
          },
          "metadata": {},
          "execution_count": 4
        }
      ]
    },
    {
      "cell_type": "code",
      "source": [
        "# sample neural network with one node CGPA vs placement\n",
        "x = torch.tensor(6.7) # cgpa\n",
        "y_target = torch.tensor(0.0) # unplaces\n",
        "\n",
        "w = torch.tensor(1.0,  requires_grad = True, dtype = torch.float64)\n",
        "b = torch.tensor(0.0,  requires_grad = True, dtype = torch.float64)\n",
        "\n",
        "z = w*x + b\n",
        "y_pred = torch.sigmoid(z)\n",
        "\n",
        "loss =  - (y_target * torch.log(y_pred) + (1-y_target) * torch.log(1-y_pred))"
      ],
      "metadata": {
        "id": "kk-814U4hcY8"
      },
      "execution_count": 5,
      "outputs": []
    },
    {
      "cell_type": "code",
      "source": [
        "x"
      ],
      "metadata": {
        "colab": {
          "base_uri": "https://localhost:8080/"
        },
        "id": "huiWVQhxir-H",
        "outputId": "f630ff4c-f17e-4a58-828a-a62c918c7f9d"
      },
      "execution_count": 7,
      "outputs": [
        {
          "output_type": "execute_result",
          "data": {
            "text/plain": [
              "tensor(6.7000)"
            ]
          },
          "metadata": {},
          "execution_count": 7
        }
      ]
    },
    {
      "cell_type": "code",
      "source": [
        "w"
      ],
      "metadata": {
        "colab": {
          "base_uri": "https://localhost:8080/"
        },
        "id": "1NCKe08FitU2",
        "outputId": "26a234db-7cf9-4f6e-a6b8-633f3d271f8d"
      },
      "execution_count": 8,
      "outputs": [
        {
          "output_type": "execute_result",
          "data": {
            "text/plain": [
              "tensor(1., dtype=torch.float64, requires_grad=True)"
            ]
          },
          "metadata": {},
          "execution_count": 8
        }
      ]
    },
    {
      "cell_type": "code",
      "source": [
        "b"
      ],
      "metadata": {
        "colab": {
          "base_uri": "https://localhost:8080/"
        },
        "id": "NhNPF2vlivtQ",
        "outputId": "bc5e98e6-3b43-4790-a3d6-884a335194cc"
      },
      "execution_count": 10,
      "outputs": [
        {
          "output_type": "execute_result",
          "data": {
            "text/plain": [
              "tensor(0., dtype=torch.float64, requires_grad=True)"
            ]
          },
          "metadata": {},
          "execution_count": 10
        }
      ]
    },
    {
      "cell_type": "code",
      "source": [
        "z"
      ],
      "metadata": {
        "colab": {
          "base_uri": "https://localhost:8080/"
        },
        "id": "5CVcz0FgiwIQ",
        "outputId": "bbb45802-6143-4741-f800-2244629cbd53"
      },
      "execution_count": 11,
      "outputs": [
        {
          "output_type": "execute_result",
          "data": {
            "text/plain": [
              "tensor(6.7000, dtype=torch.float64, grad_fn=<AddBackward0>)"
            ]
          },
          "metadata": {},
          "execution_count": 11
        }
      ]
    },
    {
      "cell_type": "code",
      "source": [
        "y_pred"
      ],
      "metadata": {
        "colab": {
          "base_uri": "https://localhost:8080/"
        },
        "id": "9sYlUxLZiyJD",
        "outputId": "e99cb094-c346-42d7-fb8f-9c39f5075d50"
      },
      "execution_count": 12,
      "outputs": [
        {
          "output_type": "execute_result",
          "data": {
            "text/plain": [
              "tensor(0.9988, dtype=torch.float64, grad_fn=<SigmoidBackward0>)"
            ]
          },
          "metadata": {},
          "execution_count": 12
        }
      ]
    },
    {
      "cell_type": "code",
      "source": [
        "loss"
      ],
      "metadata": {
        "colab": {
          "base_uri": "https://localhost:8080/"
        },
        "id": "-wL78GHNizuE",
        "outputId": "e9ff8494-1d03-4bae-aa02-e82a8f0c7724"
      },
      "execution_count": 13,
      "outputs": [
        {
          "output_type": "execute_result",
          "data": {
            "text/plain": [
              "tensor(6.7012, dtype=torch.float64, grad_fn=<NegBackward0>)"
            ]
          },
          "metadata": {},
          "execution_count": 13
        }
      ]
    },
    {
      "cell_type": "code",
      "source": [
        "loss.backward()"
      ],
      "metadata": {
        "id": "0EY8MWq-i0wt"
      },
      "execution_count": 14,
      "outputs": []
    },
    {
      "cell_type": "code",
      "source": [
        "w.grad"
      ],
      "metadata": {
        "colab": {
          "base_uri": "https://localhost:8080/"
        },
        "id": "5DZEPBAsi3z7",
        "outputId": "6d9fb96c-7236-43bb-db8e-5cc1b490bdd3"
      },
      "execution_count": 15,
      "outputs": [
        {
          "output_type": "execute_result",
          "data": {
            "text/plain": [
              "tensor(6.6918, dtype=torch.float64)"
            ]
          },
          "metadata": {},
          "execution_count": 15
        }
      ]
    },
    {
      "cell_type": "code",
      "source": [
        "b.grad"
      ],
      "metadata": {
        "colab": {
          "base_uri": "https://localhost:8080/"
        },
        "id": "RXSpjZI0i8f2",
        "outputId": "b21b966b-2815-4aa9-b467-83fa22b17ce7"
      },
      "execution_count": 16,
      "outputs": [
        {
          "output_type": "execute_result",
          "data": {
            "text/plain": [
              "tensor(0.9988, dtype=torch.float64)"
            ]
          },
          "metadata": {},
          "execution_count": 16
        }
      ]
    },
    {
      "cell_type": "code",
      "source": [
        "# vector input\n",
        "a = torch.tensor([1,2,3], requires_grad = True, dtype = torch.float64)\n",
        "b = (a**2).mean()"
      ],
      "metadata": {
        "id": "4IcqM9LVi9M2"
      },
      "execution_count": 33,
      "outputs": []
    },
    {
      "cell_type": "code",
      "source": [
        "print(a)"
      ],
      "metadata": {
        "colab": {
          "base_uri": "https://localhost:8080/"
        },
        "id": "rLxIlIlxjppp",
        "outputId": "10dee2ef-0d19-4207-94d8-f8689f4f8a50"
      },
      "execution_count": 34,
      "outputs": [
        {
          "output_type": "stream",
          "name": "stdout",
          "text": [
            "tensor([1., 2., 3.], dtype=torch.float64, requires_grad=True)\n"
          ]
        }
      ]
    },
    {
      "cell_type": "code",
      "source": [
        "print(b)"
      ],
      "metadata": {
        "colab": {
          "base_uri": "https://localhost:8080/"
        },
        "id": "YD3IshUzjqqb",
        "outputId": "261a4b56-6cd1-4185-f1d8-3d5ce1c0c184"
      },
      "execution_count": 35,
      "outputs": [
        {
          "output_type": "stream",
          "name": "stdout",
          "text": [
            "tensor(4.6667, dtype=torch.float64, grad_fn=<MeanBackward0>)\n"
          ]
        }
      ]
    },
    {
      "cell_type": "code",
      "source": [
        "b.backward() # final value should be a single value"
      ],
      "metadata": {
        "id": "K_86SjDKjuZy"
      },
      "execution_count": 36,
      "outputs": []
    },
    {
      "cell_type": "code",
      "source": [
        "a.grad"
      ],
      "metadata": {
        "colab": {
          "base_uri": "https://localhost:8080/"
        },
        "id": "nXcftxf3jzd-",
        "outputId": "fd2b2cba-1f99-4984-fb35-df41f412b932"
      },
      "execution_count": 37,
      "outputs": [
        {
          "output_type": "execute_result",
          "data": {
            "text/plain": [
              "tensor([0.6667, 1.3333, 2.0000], dtype=torch.float64)"
            ]
          },
          "metadata": {},
          "execution_count": 37
        }
      ]
    },
    {
      "cell_type": "code",
      "source": [
        "# clearing gradient : always clear before computing gradientes\n",
        "b.grad.zero_() # inplace clearing"
      ],
      "metadata": {
        "id": "GWrbyW-6j0e7"
      },
      "execution_count": null,
      "outputs": []
    },
    {
      "cell_type": "code",
      "source": [
        "# how to disable gradient tracking : like after training is done\n",
        "#1. x.requires_grad_(False)\n",
        "#2. with torch.no_grad() :\n",
        "#     do some computation here , it wont be tracked\n",
        "#3. z = x.detach() z is same as x but detached"
      ],
      "metadata": {
        "id": "OuixfC6SkWd_"
      },
      "execution_count": null,
      "outputs": []
    },
    {
      "cell_type": "code",
      "source": [],
      "metadata": {
        "id": "EhELEjCPl6Yj"
      },
      "execution_count": null,
      "outputs": []
    }
  ]
}